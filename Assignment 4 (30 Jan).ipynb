{
 "cells": [
  {
   "cell_type": "code",
   "execution_count": 1,
   "id": "9cb0bb67-2615-47fa-a8d2-845f762472f4",
   "metadata": {},
   "outputs": [],
   "source": [
    "#Ques 1. Write a program to display different grade by accepting user percentage as a input."
   ]
  },
  {
   "cell_type": "code",
   "execution_count": 9,
   "id": "076bb52f-9376-4c1c-a2f9-fd056ad2ff1c",
   "metadata": {},
   "outputs": [
    {
     "name": "stdin",
     "output_type": "stream",
     "text": [
      "Enter your percentage 90\n"
     ]
    },
    {
     "name": "stdout",
     "output_type": "stream",
     "text": [
      "The grade is 'B'\n"
     ]
    }
   ],
   "source": [
    "per = int(input(\"Enter your percentage\"))\n",
    "if per > 90:\n",
    "    print(\"The grade is 'A'\")\n",
    "elif per >80 and per <= 90:\n",
    "    print(\"The grade is 'B'\")\n",
    "elif per >= 60 and per <= 80:\n",
    "    print(\"The grade is 'C'\")\n",
    "else:\n",
    "    print(\"The grade is 'D'\")"
   ]
  },
  {
   "cell_type": "code",
   "execution_count": 10,
   "id": "c0437193-a00b-4f62-83cf-2273e6b2afad",
   "metadata": {},
   "outputs": [],
   "source": [
    "# Ques 2. Write a program to accept cost price of a bike and display to the road tax"
   ]
  },
  {
   "cell_type": "code",
   "execution_count": 14,
   "id": "dfdb1241-e611-408c-98df-df697b50f44a",
   "metadata": {},
   "outputs": [
    {
     "name": "stdin",
     "output_type": "stream",
     "text": [
      "Enter the cost price 50000\n"
     ]
    },
    {
     "name": "stdout",
     "output_type": "stream",
     "text": [
      "The road tax is = 2500.0\n"
     ]
    }
   ],
   "source": [
    "cst_price = int(input(\"Enter the cost price\"))\n",
    "if cst_price > 100000:\n",
    "    res = cst_price*(15/100)\n",
    "    print(\"The road tax is =\", res)\n",
    "elif cst_price > 50000 and cst_price <= 100000:\n",
    "    res = cst_price*(10/100)\n",
    "    print(\"The road tax is =\", res)\n",
    "else:\n",
    "    res = cst_price*(5/100)\n",
    "    print(\"The road tax is =\", res)"
   ]
  },
  {
   "cell_type": "code",
   "execution_count": 15,
   "id": "2a51dca6-06a4-4c5f-84b5-7ce7c8e0898c",
   "metadata": {},
   "outputs": [],
   "source": [
    "# Ques 3. Accept City from a user and display monuments of that city."
   ]
  },
  {
   "cell_type": "code",
   "execution_count": 24,
   "id": "d0761163-8bf3-47e4-a18c-509ae3549c82",
   "metadata": {},
   "outputs": [
    {
     "name": "stdin",
     "output_type": "stream",
     "text": [
      "Enter the City Name Delhi\n"
     ]
    },
    {
     "name": "stdout",
     "output_type": "stream",
     "text": [
      "The monument in Delhi is = 'Red Fort'\n"
     ]
    }
   ],
   "source": [
    "city = input(\"Enter the City Name\")\n",
    "if city == \"Delhi\":\n",
    "    print(\"The monument in Delhi is = 'Red Fort'\")\n",
    "elif city == \"Agra\":\n",
    "    print(\"The monument in Agra is = 'Taj Mahal'\")\n",
    "elif  city == \"Jaipur\":\n",
    "    print(\"The monument in Jaipur is = 'Jal Mahal'\")\n",
    "else:\n",
    "    print(\"Not presented here\")"
   ]
  },
  {
   "cell_type": "code",
   "execution_count": 25,
   "id": "c55c2013-29a8-43e4-8b1f-38bc31dd8a4b",
   "metadata": {},
   "outputs": [],
   "source": [
    "# ques 4. Check how many times a given number can be divided by 3 before it is less than or equal to 10."
   ]
  },
  {
   "cell_type": "code",
   "execution_count": 28,
   "id": "c331236a-1446-438f-969a-8e91ceb1bb4b",
   "metadata": {},
   "outputs": [
    {
     "name": "stdin",
     "output_type": "stream",
     "text": [
      "Enter the number for which you want to check it 360\n"
     ]
    },
    {
     "name": "stdout",
     "output_type": "stream",
     "text": [
      "Total iteration required 4\n"
     ]
    }
   ],
   "source": [
    "count = 0\n",
    "number = int(input(\"Enter the number for which you want to check it\"))\n",
    "while number > 10:\n",
    "    # divide number by 3\n",
    "    number = number / 3\n",
    "    # increase count\n",
    "    count = count + 1\n",
    "print('Total iteration required', count)"
   ]
  },
  {
   "cell_type": "code",
   "execution_count": null,
   "id": "1c308632-b039-4dcf-ba16-9ff4e87af427",
   "metadata": {},
   "outputs": [],
   "source": [
    "# Ques 5. why and when to use while loop in python ?"
   ]
  },
  {
   "cell_type": "code",
   "execution_count": 34,
   "id": "03c01b9b-39d9-42ca-bde0-fb33bc02d1b8",
   "metadata": {},
   "outputs": [
    {
     "name": "stdout",
     "output_type": "stream",
     "text": [
      "1\n",
      "2\n",
      "3\n",
      "4\n",
      "5\n"
     ]
    }
   ],
   "source": [
    "# Ans. Python while loop is used to run a block code until a certain condition is met. Here, A while loop evaluates the condition. If the condition evaluates to True , the code inside the while loop is executed.\n",
    "\n",
    "i = 1\n",
    "n = 5\n",
    "l = []\n",
    "while i <= n:\n",
    "    print(i)\n",
    "    i = i + 1"
   ]
  },
  {
   "cell_type": "code",
   "execution_count": 35,
   "id": "83d1279c-6b14-46ab-a8e4-064f35d1cce0",
   "metadata": {},
   "outputs": [],
   "source": [
    "# Ques 6.use nested while loop to print 3 different pattern"
   ]
  },
  {
   "cell_type": "code",
   "execution_count": 38,
   "id": "01394631-92db-4130-896c-7a1f4e6840d9",
   "metadata": {},
   "outputs": [
    {
     "name": "stdout",
     "output_type": "stream",
     "text": [
      "\n",
      "1 \n",
      "2 2 \n",
      "3 3 3 \n"
     ]
    }
   ],
   "source": [
    "rows = 4\n",
    "# if you want user to enter a number, uncomment the below line\n",
    "# rows = int(input('Enter the number of rows'))\n",
    "# outer loop\n",
    "for i in range(rows):\n",
    "    # nested loop\n",
    "    for j in range(i):\n",
    "        # display number\n",
    "        print(i, end=' ')\n",
    "    # new line after each row\n",
    "    print('')"
   ]
  },
  {
   "cell_type": "code",
   "execution_count": 39,
   "id": "a34ace11-94f2-44e8-b36b-1d9e3115bdac",
   "metadata": {},
   "outputs": [],
   "source": [
    "# Ques 7. Reverse a while loop to print the numbers from 10 to 1."
   ]
  },
  {
   "cell_type": "code",
   "execution_count": 40,
   "id": "2eafb71c-be14-4f65-b0d6-5a2a3eafc150",
   "metadata": {},
   "outputs": [
    {
     "name": "stdout",
     "output_type": "stream",
     "text": [
      "10\n",
      "9\n",
      "8\n",
      "7\n",
      "6\n",
      "5\n",
      "4\n",
      "3\n",
      "2\n",
      "1\n"
     ]
    }
   ],
   "source": [
    "i = 10\n",
    "while i > 0:\n",
    "    print(i)\n",
    "    i = i-1"
   ]
  },
  {
   "cell_type": "code",
   "execution_count": null,
   "id": "49cc54ae-3e3d-4a4f-970a-7e6a564046c5",
   "metadata": {},
   "outputs": [],
   "source": []
  }
 ],
 "metadata": {
  "kernelspec": {
   "display_name": "Python 3 (ipykernel)",
   "language": "python",
   "name": "python3"
  },
  "language_info": {
   "codemirror_mode": {
    "name": "ipython",
    "version": 3
   },
   "file_extension": ".py",
   "mimetype": "text/x-python",
   "name": "python",
   "nbconvert_exporter": "python",
   "pygments_lexer": "ipython3",
   "version": "3.10.8"
  }
 },
 "nbformat": 4,
 "nbformat_minor": 5
}
